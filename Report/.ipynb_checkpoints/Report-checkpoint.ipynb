{
 "cells": [
  {
   "cell_type": "markdown",
   "metadata": {},
   "source": [
    "# Report iniziale dell'applicazione"
   ]
  },
  {
   "cell_type": "markdown",
   "metadata": {},
   "source": [
    "### Screenshot\n",
    "![screenshoot](Screenshot.png)"
   ]
  },
  {
   "cell_type": "markdown",
   "metadata": {},
   "source": [
    "### Come funziona\n",
    "L'applicazione legge i dati dall'accelerometro e produce un file CSV in cui ogni riga è:\n",
    "\n",
    "    x,y,z,Movimento\n",
    "\n",
    "\"Movimento\" è un parametro addizionale che l'utente può utilizzare per segnalare che tipo di movimento sta effettuando.\n",
    "\n",
    "I dati dell'accelerometro sono ogni 65ms credo, ma è da verificare."
   ]
  },
  {
   "cell_type": "markdown",
   "metadata": {},
   "source": [
    "Per il mio test ho effuato un movimento su un piano molto simile a questo:\n",
    "\n",
    "![movimento](Movement.png)"
   ]
  },
  {
   "cell_type": "markdown",
   "metadata": {},
   "source": [
    "Il file CSV con i risultati si trova nel repository."
   ]
  },
  {
   "cell_type": "markdown",
   "metadata": {},
   "source": [
    "### Visualizzazione dei dati con grafico\n",
    "\n",
    "Di seguito si possono osservare i dati delle componenti x e y riportati su dei grafici. La componente z verrà tralasciata in quanto assume un valore (più o meno) costante che è la forza di gravità.\n",
    "\n",
    "\n",
    "Comincio con il creare i due array con i rispettivi dati di x e y:"
   ]
  },
  {
   "cell_type": "code",
   "execution_count": null,
   "metadata": {
    "collapsed": true
   },
   "outputs": [],
   "source": [
    "import csv\n",
    "\n",
    "lista_x = []\n",
    "lista_y = []\n",
    "\n",
    "with open('report.csv', 'r') as csv_file:\n",
    "    csv_reader = csv.reader(csv_file)\n",
    "    \n",
    "    for line in csv_reader:\n",
    "        lista_x.append(line[0])\n",
    "        lista_y.append(line[1])\n"
   ]
  },
  {
   "cell_type": "markdown",
   "metadata": {},
   "source": [
    "Importo la libreria e calcolo il numero totale di misurazioni:"
   ]
  },
  {
   "cell_type": "code",
   "execution_count": null,
   "metadata": {
    "collapsed": true
   },
   "outputs": [],
   "source": [
    "%matplotlib inline\n",
    "import matplotlib.pyplot as plt\n",
    "\n",
    "lunghezza = len(lista_x)"
   ]
  },
  {
   "cell_type": "markdown",
   "metadata": {},
   "source": [
    "Quindi per x si ha:"
   ]
  },
  {
   "cell_type": "code",
   "execution_count": null,
   "metadata": {},
   "outputs": [],
   "source": [
    "plt.plot(range(lunghezza), lista_x)\n",
    "plt.xlabel('tempo')\n",
    "plt.ylabel('accelerazione')\n",
    "plt.show()"
   ]
  },
  {
   "cell_type": "markdown",
   "metadata": {},
   "source": [
    "Quindi si può notare l'accelezione negativa quando il cellulare si muove verso sinistra e la successiva frenata nel primo caso, mentre nel secondo caso si verifica il contrario."
   ]
  },
  {
   "cell_type": "markdown",
   "metadata": {},
   "source": [
    "In modo simile per y:"
   ]
  },
  {
   "cell_type": "code",
   "execution_count": null,
   "metadata": {},
   "outputs": [],
   "source": [
    "plt.plot(range(lunghezza), lista_y)\n",
    "plt.xlabel('tempo')\n",
    "plt.ylabel('accelerazione')\n",
    "plt.show()"
   ]
  },
  {
   "cell_type": "markdown",
   "metadata": {},
   "source": [
    "I movimenti più piccoli che si vedono in tutti e due i grafici sono invece relativi a quando il telefono si muove nell'altro asse ma il movimento è fatto a mano e quindi non è proprio una linea dritta."
   ]
  }
 ],
 "metadata": {
  "kernelspec": {
   "display_name": "Python 3",
   "language": "python",
   "name": "python3"
  },
  "language_info": {
   "codemirror_mode": {
    "name": "ipython",
    "version": 3
   },
   "file_extension": ".py",
   "mimetype": "text/x-python",
   "name": "python",
   "nbconvert_exporter": "python",
   "pygments_lexer": "ipython3",
   "version": "3.6.2"
  }
 },
 "nbformat": 4,
 "nbformat_minor": 2
}
